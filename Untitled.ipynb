{
 "cells": [
  {
   "cell_type": "code",
   "execution_count": 1,
   "id": "fec18d84",
   "metadata": {},
   "outputs": [],
   "source": [
    "import pandas as pd\n",
    "import numpy as np\n",
    "import openpyxl\n",
    "import matplotlib.pyplot as plt\n",
    "#import os\n",
    "import seaborn as sns\n",
    "import warnings"
   ]
  },
  {
   "cell_type": "code",
   "execution_count": 2,
   "id": "b630f297",
   "metadata": {},
   "outputs": [],
   "source": [
    "warnings.filterwarnings('ignore')"
   ]
  },
  {
   "cell_type": "code",
   "execution_count": 3,
   "id": "298328dd",
   "metadata": {},
   "outputs": [],
   "source": [
    "data= pd.read_excel('Sales_project.xlsx')\n",
    "sales_order= pd.read_excel('Sales_project.xlsx','Sales Orders Sheet')\n",
    "customers=pd.read_excel('Sales_project.xlsx', 'Customers Sheet')\n",
    "site_location= pd.read_excel('Sales_project.xlsx','Site Location sheet')\n",
    "products= pd.read_excel('Sales_project.xlsx', 'Products_Sheet')\n",
    "sales_team= pd.read_excel('Sales_project.xlsx','Sales Team Sheet')"
   ]
  },
  {
   "cell_type": "code",
   "execution_count": 4,
   "id": "f6f18f75",
   "metadata": {
    "scrolled": true
   },
   "outputs": [
    {
     "data": {
      "text/html": [
       "<div>\n",
       "<style scoped>\n",
       "    .dataframe tbody tr th:only-of-type {\n",
       "        vertical-align: middle;\n",
       "    }\n",
       "\n",
       "    .dataframe tbody tr th {\n",
       "        vertical-align: top;\n",
       "    }\n",
       "\n",
       "    .dataframe thead th {\n",
       "        text-align: right;\n",
       "    }\n",
       "</style>\n",
       "<table border=\"1\" class=\"dataframe\">\n",
       "  <thead>\n",
       "    <tr style=\"text-align: right;\">\n",
       "      <th></th>\n",
       "      <th>_ProductID</th>\n",
       "      <th>Product Name</th>\n",
       "      <th>Item/Service Description</th>\n",
       "      <th>Bandwidth</th>\n",
       "    </tr>\n",
       "  </thead>\n",
       "  <tbody>\n",
       "    <tr>\n",
       "      <th>0</th>\n",
       "      <td>1</td>\n",
       "      <td>4G LTE connectivity</td>\n",
       "      <td>4G GO SMART 1GB/DAY</td>\n",
       "      <td>0</td>\n",
       "    </tr>\n",
       "    <tr>\n",
       "      <th>1</th>\n",
       "      <td>2</td>\n",
       "      <td>4G LTE connectivity</td>\n",
       "      <td>4G MUP  1GB/DAY GOV</td>\n",
       "      <td>0</td>\n",
       "    </tr>\n",
       "    <tr>\n",
       "      <th>2</th>\n",
       "      <td>3</td>\n",
       "      <td>4G LTE connectivity</td>\n",
       "      <td>4G GO PLATINUM 4GB/DAY</td>\n",
       "      <td>0</td>\n",
       "    </tr>\n",
       "    <tr>\n",
       "      <th>3</th>\n",
       "      <td>4</td>\n",
       "      <td>4G LTE connectivity</td>\n",
       "      <td>4G UNLIMITED 100GB</td>\n",
       "      <td>0</td>\n",
       "    </tr>\n",
       "    <tr>\n",
       "      <th>4</th>\n",
       "      <td>5</td>\n",
       "      <td>4G LTE connectivity</td>\n",
       "      <td>4G ONE NETWORK 3MBPS + INSTALLATION</td>\n",
       "      <td>0</td>\n",
       "    </tr>\n",
       "  </tbody>\n",
       "</table>\n",
       "</div>"
      ],
      "text/plain": [
       "   _ProductID         Product Name             Item/Service Description  \\\n",
       "0           1  4G LTE connectivity                  4G GO SMART 1GB/DAY   \n",
       "1           2  4G LTE connectivity                  4G MUP  1GB/DAY GOV   \n",
       "2           3  4G LTE connectivity               4G GO PLATINUM 4GB/DAY   \n",
       "3           4  4G LTE connectivity                   4G UNLIMITED 100GB   \n",
       "4           5  4G LTE connectivity  4G ONE NETWORK 3MBPS + INSTALLATION   \n",
       "\n",
       "   Bandwidth  \n",
       "0          0  \n",
       "1          0  \n",
       "2          0  \n",
       "3          0  \n",
       "4          0  "
      ]
     },
     "execution_count": 4,
     "metadata": {},
     "output_type": "execute_result"
    }
   ],
   "source": [
    "products.head(5)"
   ]
  },
  {
   "cell_type": "markdown",
   "id": "58092b7e",
   "metadata": {},
   "source": [
    "# Data Augementation"
   ]
  },
  {
   "cell_type": "code",
   "execution_count": 5,
   "id": "1c1010f5",
   "metadata": {},
   "outputs": [],
   "source": [
    "#Drop the Currrency Column since it's universal\n",
    "sales_order.drop(['CurrencyCode'], axis=1, inplace=True)"
   ]
  },
  {
   "cell_type": "code",
   "execution_count": 6,
   "id": "0a739e30",
   "metadata": {},
   "outputs": [],
   "source": [
    "#Calculate total amount of each transaction with discount deduction\n",
    "sales_order['Total Amount'] = (sales_order['Order Quantity']* sales_order['Unit Price'])-sales_order['Discount Applied']"
   ]
  },
  {
   "cell_type": "code",
   "execution_count": 7,
   "id": "dd1e819d",
   "metadata": {},
   "outputs": [],
   "source": [
    "#Create Month/Year column from datetime column\n",
    "sales_order['Month'] = pd.DatetimeIndex(sales_order['OrderDate']).month\n",
    "sales_order['Year'] = pd.DatetimeIndex(sales_order['OrderDate']).year"
   ]
  },
  {
   "cell_type": "code",
   "execution_count": 8,
   "id": "7826dd8c",
   "metadata": {},
   "outputs": [],
   "source": [
    "#Calculate profit from each individual sale transaction\n",
    "sales_order['Profit'] = (sales_order['Unit Price']- sales_order['Unit Cost'])-sales_order['Discount Applied']"
   ]
  },
  {
   "cell_type": "code",
   "execution_count": 9,
   "id": "db350ec4",
   "metadata": {},
   "outputs": [],
   "source": [
    "#Add Bandwidth purchased from each transaction\n",
    "sales_order = sales_order.merge(products[['_ProductID','Bandwidth']], left_on = \"_ProductID\", right_on = \"_ProductID\", how = \"left\")"
   ]
  },
  {
   "cell_type": "code",
   "execution_count": 13,
   "id": "de403370",
   "metadata": {},
   "outputs": [],
   "source": [
    "#Add last purchase data in days from\n",
    "def last_purchase(customer_id, OrderIndex):\n",
    "    customer_purchase = sales_order.query(\"_CustomerID == {customer_id}\").sort_values(['OrderDate'])\n",
    "    current_purchase_date = customer_purchase.loc[OrderIndex].OrderDate #current purchase data\n",
    "    last_purchase_date = customer_purchase.loc[OrderIndex -1]\n"
   ]
  },
  {
   "cell_type": "code",
   "execution_count": 14,
   "id": "bd5e93c3",
   "metadata": {},
   "outputs": [],
   "source": [
    "#Group all prouduct demand by their months"
   ]
  },
  {
   "cell_type": "code",
   "execution_count": 15,
   "id": "d5bac4a0",
   "metadata": {},
   "outputs": [],
   "source": [
    "demand = pd.DataFrame()\n",
    "for item in sales_order['_ProductID'].unique():\n",
    "    demand[str(item)] = 0"
   ]
  },
  {
   "cell_type": "code",
   "execution_count": 16,
   "id": "ca4939a7",
   "metadata": {},
   "outputs": [
    {
     "data": {
      "text/html": [
       "<div>\n",
       "<style scoped>\n",
       "    .dataframe tbody tr th:only-of-type {\n",
       "        vertical-align: middle;\n",
       "    }\n",
       "\n",
       "    .dataframe tbody tr th {\n",
       "        vertical-align: top;\n",
       "    }\n",
       "\n",
       "    .dataframe thead th {\n",
       "        text-align: right;\n",
       "    }\n",
       "</style>\n",
       "<table border=\"1\" class=\"dataframe\">\n",
       "  <thead>\n",
       "    <tr style=\"text-align: right;\">\n",
       "      <th></th>\n",
       "      <th>1</th>\n",
       "      <th>2</th>\n",
       "      <th>3</th>\n",
       "      <th>4</th>\n",
       "      <th>5</th>\n",
       "      <th>6</th>\n",
       "      <th>7</th>\n",
       "      <th>8</th>\n",
       "      <th>9</th>\n",
       "      <th>10</th>\n",
       "      <th>...</th>\n",
       "      <th>38</th>\n",
       "      <th>39</th>\n",
       "      <th>40</th>\n",
       "      <th>41</th>\n",
       "      <th>42</th>\n",
       "      <th>43</th>\n",
       "      <th>44</th>\n",
       "      <th>45</th>\n",
       "      <th>46</th>\n",
       "      <th>47</th>\n",
       "    </tr>\n",
       "  </thead>\n",
       "  <tbody>\n",
       "  </tbody>\n",
       "</table>\n",
       "<p>0 rows × 47 columns</p>\n",
       "</div>"
      ],
      "text/plain": [
       "Empty DataFrame\n",
       "Columns: [1, 2, 3, 4, 5, 6, 7, 8, 9, 10, 11, 12, 13, 14, 15, 16, 17, 18, 19, 20, 21, 22, 23, 24, 25, 26, 27, 28, 29, 30, 31, 32, 33, 34, 35, 36, 37, 38, 39, 40, 41, 42, 43, 44, 45, 46, 47]\n",
       "Index: []\n",
       "\n",
       "[0 rows x 47 columns]"
      ]
     },
     "execution_count": 16,
     "metadata": {},
     "output_type": "execute_result"
    }
   ],
   "source": [
    "demand.head()"
   ]
  },
  {
   "cell_type": "code",
   "execution_count": 17,
   "id": "34442e1b",
   "metadata": {},
   "outputs": [
    {
     "data": {
      "text/plain": [
       "47"
      ]
     },
     "execution_count": 17,
     "metadata": {},
     "output_type": "execute_result"
    }
   ],
   "source": [
    "#Uniques months\n",
    "len(sales_order['_ProductID'].unique())"
   ]
  },
  {
   "cell_type": "code",
   "execution_count": 22,
   "id": "d9b86d0c",
   "metadata": {
    "scrolled": true
   },
   "outputs": [
    {
     "data": {
      "text/plain": [
       "1"
      ]
     },
     "execution_count": 22,
     "metadata": {},
     "output_type": "execute_result"
    }
   ],
   "source": [
    "sales_order.loc[(sales_order['Month-Year'] == '2018/05') & (sales_order['_ProductID'] == 1)].OrderNumber.count()"
   ]
  },
  {
   "cell_type": "code",
   "execution_count": 23,
   "id": "db35cd54",
   "metadata": {},
   "outputs": [],
   "source": [
    "prod_demand = {}"
   ]
  },
  {
   "cell_type": "code",
   "execution_count": 39,
   "id": "887e5328",
   "metadata": {},
   "outputs": [],
   "source": [
    "for product in list(sales_order['_ProductID'].unique()):\n",
    "    month_demand = []\n",
    "    for mo in list(sales_order['Month-Year'].unique()):\n",
    "        b = sales_order.loc[(sales_order['Month-Year'] == mo) & (sales_order['_ProductID'] == product)].OrderNumber.count() \n",
    "        month_demand.append(b)\n",
    "    prod_demand[product] = month_demand"
   ]
  },
  {
   "cell_type": "code",
   "execution_count": 25,
   "id": "0f509671",
   "metadata": {},
   "outputs": [],
   "source": [
    "prod_demand['Month-Year'] = sales_order['Month-Year'].unique()"
   ]
  },
  {
   "cell_type": "code",
   "execution_count": 26,
   "id": "f1d55dac",
   "metadata": {},
   "outputs": [],
   "source": [
    "bv = pd.DataFrame(prod_demand)"
   ]
  },
  {
   "cell_type": "code",
   "execution_count": 34,
   "id": "bb483aad",
   "metadata": {},
   "outputs": [
    {
     "data": {
      "text/plain": [
       "<AxesSubplot:xlabel='Month-Year'>"
      ]
     },
     "execution_count": 34,
     "metadata": {},
     "output_type": "execute_result"
    },
    {
     "data": {
      "image/png": "[encoded data removed]",
      "text/plain": [
       "<Figure size 576x432 with 1 Axes>"
      ]
     },
     "metadata": {
      "needs_background": "light"
     },
     "output_type": "display_data"
    }
   ],
   "source": [
    "bv.plot.line(x='Month-Year',y=[1,2,3,4,5], figsize=(8,6))"
   ]
  },
  {
   "cell_type": "code",
   "execution_count": 31,
   "id": "8adff754",
   "metadata": {},
   "outputs": [],
   "source": [
    "for row in range(len(demand)):\n",
    "    print(demand.iloc[row].name)"
   ]
  },
  {
   "cell_type": "code",
   "execution_count": 32,
   "id": "7c81c23f",
   "metadata": {},
   "outputs": [],
   "source": [
    "prod_demand = sales_order.groupby('Month-Year').agg(qty = ('_ProductID', 'sum')).astype({'qty':int})"
   ]
  },
  {
   "cell_type": "code",
   "execution_count": 28,
   "id": "ed71cc70",
   "metadata": {},
   "outputs": [
    {
     "data": {
      "text/html": [
       "<div>\n",
       "<style scoped>\n",
       "    .dataframe tbody tr th:only-of-type {\n",
       "        vertical-align: middle;\n",
       "    }\n",
       "\n",
       "    .dataframe tbody tr th {\n",
       "        vertical-align: top;\n",
       "    }\n",
       "\n",
       "    .dataframe thead th {\n",
       "        text-align: right;\n",
       "    }\n",
       "</style>\n",
       "<table border=\"1\" class=\"dataframe\">\n",
       "  <thead>\n",
       "    <tr style=\"text-align: right;\">\n",
       "      <th></th>\n",
       "      <th>qty</th>\n",
       "    </tr>\n",
       "    <tr>\n",
       "      <th>Month-Year</th>\n",
       "      <th></th>\n",
       "    </tr>\n",
       "  </thead>\n",
       "  <tbody>\n",
       "    <tr>\n",
       "      <th>2018/05</th>\n",
       "      <td>156</td>\n",
       "    </tr>\n",
       "    <tr>\n",
       "      <th>2018/06</th>\n",
       "      <td>6018</td>\n",
       "    </tr>\n",
       "    <tr>\n",
       "      <th>2018/07</th>\n",
       "      <td>5858</td>\n",
       "    </tr>\n",
       "    <tr>\n",
       "      <th>2018/08</th>\n",
       "      <td>6330</td>\n",
       "    </tr>\n",
       "    <tr>\n",
       "      <th>2018/09</th>\n",
       "      <td>6223</td>\n",
       "    </tr>\n",
       "    <tr>\n",
       "      <th>2018/10</th>\n",
       "      <td>5577</td>\n",
       "    </tr>\n",
       "    <tr>\n",
       "      <th>2018/11</th>\n",
       "      <td>6098</td>\n",
       "    </tr>\n",
       "    <tr>\n",
       "      <th>2018/12</th>\n",
       "      <td>7240</td>\n",
       "    </tr>\n",
       "    <tr>\n",
       "      <th>2019/01</th>\n",
       "      <td>7135</td>\n",
       "    </tr>\n",
       "    <tr>\n",
       "      <th>2019/02</th>\n",
       "      <td>5330</td>\n",
       "    </tr>\n",
       "    <tr>\n",
       "      <th>2019/03</th>\n",
       "      <td>5125</td>\n",
       "    </tr>\n",
       "    <tr>\n",
       "      <th>2019/04</th>\n",
       "      <td>6445</td>\n",
       "    </tr>\n",
       "    <tr>\n",
       "      <th>2019/05</th>\n",
       "      <td>6594</td>\n",
       "    </tr>\n",
       "    <tr>\n",
       "      <th>2019/06</th>\n",
       "      <td>6063</td>\n",
       "    </tr>\n",
       "    <tr>\n",
       "      <th>2019/07</th>\n",
       "      <td>6225</td>\n",
       "    </tr>\n",
       "    <tr>\n",
       "      <th>2019/08</th>\n",
       "      <td>6309</td>\n",
       "    </tr>\n",
       "    <tr>\n",
       "      <th>2019/09</th>\n",
       "      <td>5474</td>\n",
       "    </tr>\n",
       "    <tr>\n",
       "      <th>2019/10</th>\n",
       "      <td>5714</td>\n",
       "    </tr>\n",
       "    <tr>\n",
       "      <th>2019/11</th>\n",
       "      <td>6092</td>\n",
       "    </tr>\n",
       "    <tr>\n",
       "      <th>2019/12</th>\n",
       "      <td>6088</td>\n",
       "    </tr>\n",
       "    <tr>\n",
       "      <th>2020/01</th>\n",
       "      <td>6327</td>\n",
       "    </tr>\n",
       "    <tr>\n",
       "      <th>2020/02</th>\n",
       "      <td>5938</td>\n",
       "    </tr>\n",
       "    <tr>\n",
       "      <th>2020/03</th>\n",
       "      <td>5101</td>\n",
       "    </tr>\n",
       "    <tr>\n",
       "      <th>2020/04</th>\n",
       "      <td>6310</td>\n",
       "    </tr>\n",
       "    <tr>\n",
       "      <th>2020/05</th>\n",
       "      <td>6309</td>\n",
       "    </tr>\n",
       "    <tr>\n",
       "      <th>2020/06</th>\n",
       "      <td>5809</td>\n",
       "    </tr>\n",
       "    <tr>\n",
       "      <th>2020/07</th>\n",
       "      <td>6716</td>\n",
       "    </tr>\n",
       "    <tr>\n",
       "      <th>2020/08</th>\n",
       "      <td>5911</td>\n",
       "    </tr>\n",
       "    <tr>\n",
       "      <th>2020/09</th>\n",
       "      <td>6369</td>\n",
       "    </tr>\n",
       "    <tr>\n",
       "      <th>2020/10</th>\n",
       "      <td>6465</td>\n",
       "    </tr>\n",
       "    <tr>\n",
       "      <th>2020/11</th>\n",
       "      <td>6665</td>\n",
       "    </tr>\n",
       "    <tr>\n",
       "      <th>2020/12</th>\n",
       "      <td>5946</td>\n",
       "    </tr>\n",
       "  </tbody>\n",
       "</table>\n",
       "</div>"
      ],
      "text/plain": [
       "             qty\n",
       "Month-Year      \n",
       "2018/05      156\n",
       "2018/06     6018\n",
       "2018/07     5858\n",
       "2018/08     6330\n",
       "2018/09     6223\n",
       "2018/10     5577\n",
       "2018/11     6098\n",
       "2018/12     7240\n",
       "2019/01     7135\n",
       "2019/02     5330\n",
       "2019/03     5125\n",
       "2019/04     6445\n",
       "2019/05     6594\n",
       "2019/06     6063\n",
       "2019/07     6225\n",
       "2019/08     6309\n",
       "2019/09     5474\n",
       "2019/10     5714\n",
       "2019/11     6092\n",
       "2019/12     6088\n",
       "2020/01     6327\n",
       "2020/02     5938\n",
       "2020/03     5101\n",
       "2020/04     6310\n",
       "2020/05     6309\n",
       "2020/06     5809\n",
       "2020/07     6716\n",
       "2020/08     5911\n",
       "2020/09     6369\n",
       "2020/10     6465\n",
       "2020/11     6665\n",
       "2020/12     5946"
      ]
     },
     "execution_count": 28,
     "metadata": {},
     "output_type": "execute_result"
    }
   ],
   "source": [
    "prod_demand"
   ]
  },
  {
   "cell_type": "code",
   "execution_count": 29,
   "id": "7430412b",
   "metadata": {},
   "outputs": [
    {
     "data": {
      "text/plain": [
       "<bound method DataFrame.query of        OrderNumber  OrderDate  _SalesAM_ID  _CustomerID  _SiteID  _ProductID  \\\n",
       "0      SO - 000175 2018-06-09            1            1      107           1   \n",
       "1     SO - 0003171 2019-05-26            8            1      288           1   \n",
       "2     SO - 0003587 2019-07-16           11            1      129           1   \n",
       "3     SO - 0005097 2020-01-14           22            1        4           1   \n",
       "4     SO - 0005532 2020-03-04           11            1       48           1   \n",
       "...            ...        ...          ...          ...      ...         ...   \n",
       "7986  SO - 0007448 2020-10-16           18           48      207          47   \n",
       "7987  SO - 0002912 2019-04-27            2           49      230          47   \n",
       "7988  SO - 0003106 2019-05-19           13           49      238          47   \n",
       "7989  SO - 0005880 2020-04-15           11           50       33          47   \n",
       "7990  SO - 0007879 2020-12-05           24           50      111          47   \n",
       "\n",
       "      Order Quantity  Discount Applied  Unit Price  Unit Cost  Total Amount  \\\n",
       "0                  1             0.075      2224.4   1579.324      2224.325   \n",
       "1                  1             0.300      3966.4   2816.144      3966.100   \n",
       "2                  2             0.100      3852.5   2658.225      7704.900   \n",
       "3                  1             0.075      2505.8   1954.524      2505.725   \n",
       "4                  1             0.100      3256.2   2767.770      3256.100   \n",
       "...              ...               ...         ...        ...           ...   \n",
       "7986               4             0.150      2358.4   1815.968      9433.450   \n",
       "7987               7             0.075      5661.5   3623.360     39630.425   \n",
       "7988               2             0.050      1943.0    874.350      3885.950   \n",
       "7989               5             0.400      2365.1   1348.107     11825.100   \n",
       "7990               5             0.050      3999.9   2759.931     19999.450   \n",
       "\n",
       "      Month  Year    Profit  Bandwidth Month-Year  \n",
       "0         6  2018   645.001          0    2018/06  \n",
       "1         5  2019  1149.956          0    2019/05  \n",
       "2         7  2019  1194.175          0    2019/07  \n",
       "3         1  2020   551.201          0    2020/01  \n",
       "4         3  2020   488.330          0    2020/03  \n",
       "...     ...   ...       ...        ...        ...  \n",
       "7986     10  2020   542.282       1000    2020/10  \n",
       "7987      4  2019  2038.065       1000    2019/04  \n",
       "7988      5  2019  1068.600       1000    2019/05  \n",
       "7989      4  2020  1016.593       1000    2020/04  \n",
       "7990     12  2020  1239.919       1000    2020/12  \n",
       "\n",
       "[7991 rows x 16 columns]>"
      ]
     },
     "execution_count": 29,
     "metadata": {},
     "output_type": "execute_result"
    }
   ],
   "source": [
    "sales_order.query"
   ]
  },
  {
   "cell_type": "code",
   "execution_count": 30,
   "id": "0326e415",
   "metadata": {},
   "outputs": [],
   "source": [
    "demand = pd.DataFrame()\n",
    "for product in list(sales_order['_ProductID'].unique()):\n",
    "    demand[str(product)] = 0"
   ]
  },
  {
   "cell_type": "code",
   "execution_count": 31,
   "id": "2abf1f48",
   "metadata": {},
   "outputs": [],
   "source": [
    "#customer_purchase = sales_order.query(\"_CustomerID == 1\").sort_values(['OrderDate'])\n",
    "#current_purchase_date = customer_purchase.loc[0].OrderDate\n",
    "#last_purchase_date = customer_purchase.iloc[0 -1]"
   ]
  },
  {
   "cell_type": "code",
   "execution_count": 32,
   "id": "68e0431d",
   "metadata": {},
   "outputs": [],
   "source": [
    "#current_purchase_date"
   ]
  },
  {
   "cell_type": "code",
   "execution_count": 35,
   "id": "a7a3d0ac",
   "metadata": {},
   "outputs": [
    {
     "data": {
      "text/html": [
       "<div>\n",
       "<style scoped>\n",
       "    .dataframe tbody tr th:only-of-type {\n",
       "        vertical-align: middle;\n",
       "    }\n",
       "\n",
       "    .dataframe tbody tr th {\n",
       "        vertical-align: top;\n",
       "    }\n",
       "\n",
       "    .dataframe thead th {\n",
       "        text-align: right;\n",
       "    }\n",
       "</style>\n",
       "<table border=\"1\" class=\"dataframe\">\n",
       "  <thead>\n",
       "    <tr style=\"text-align: right;\">\n",
       "      <th></th>\n",
       "      <th>OrderNumber</th>\n",
       "      <th>OrderDate</th>\n",
       "      <th>_SalesAM_ID</th>\n",
       "      <th>_CustomerID</th>\n",
       "      <th>_SiteID</th>\n",
       "      <th>_ProductID</th>\n",
       "      <th>Order Quantity</th>\n",
       "      <th>Discount Applied</th>\n",
       "      <th>Unit Price</th>\n",
       "      <th>Unit Cost</th>\n",
       "      <th>Total Amount</th>\n",
       "      <th>Month</th>\n",
       "      <th>Year</th>\n",
       "      <th>Profit</th>\n",
       "      <th>Bandwidth</th>\n",
       "      <th>Month-Year</th>\n",
       "    </tr>\n",
       "  </thead>\n",
       "  <tbody>\n",
       "    <tr>\n",
       "      <th>5799</th>\n",
       "      <td>SO - 000169</td>\n",
       "      <td>2018-06-08</td>\n",
       "      <td>9</td>\n",
       "      <td>1</td>\n",
       "      <td>30</td>\n",
       "      <td>35</td>\n",
       "      <td>2</td>\n",
       "      <td>0.150</td>\n",
       "      <td>1051.9</td>\n",
       "      <td>494.393</td>\n",
       "      <td>2103.650</td>\n",
       "      <td>6</td>\n",
       "      <td>2018</td>\n",
       "      <td>557.357</td>\n",
       "      <td>0</td>\n",
       "      <td>2018/06</td>\n",
       "    </tr>\n",
       "    <tr>\n",
       "      <th>0</th>\n",
       "      <td>SO - 000175</td>\n",
       "      <td>2018-06-09</td>\n",
       "      <td>1</td>\n",
       "      <td>1</td>\n",
       "      <td>107</td>\n",
       "      <td>1</td>\n",
       "      <td>1</td>\n",
       "      <td>0.075</td>\n",
       "      <td>2224.4</td>\n",
       "      <td>1579.324</td>\n",
       "      <td>2224.325</td>\n",
       "      <td>6</td>\n",
       "      <td>2018</td>\n",
       "      <td>645.001</td>\n",
       "      <td>0</td>\n",
       "      <td>2018/06</td>\n",
       "    </tr>\n",
       "    <tr>\n",
       "      <th>1034</th>\n",
       "      <td>SO - 000307</td>\n",
       "      <td>2018-06-26</td>\n",
       "      <td>12</td>\n",
       "      <td>1</td>\n",
       "      <td>299</td>\n",
       "      <td>7</td>\n",
       "      <td>1</td>\n",
       "      <td>0.075</td>\n",
       "      <td>1078.7</td>\n",
       "      <td>506.989</td>\n",
       "      <td>1078.625</td>\n",
       "      <td>6</td>\n",
       "      <td>2018</td>\n",
       "      <td>571.636</td>\n",
       "      <td>0</td>\n",
       "      <td>2018/06</td>\n",
       "    </tr>\n",
       "    <tr>\n",
       "      <th>5482</th>\n",
       "      <td>SO - 000368</td>\n",
       "      <td>2018-07-02</td>\n",
       "      <td>11</td>\n",
       "      <td>1</td>\n",
       "      <td>160</td>\n",
       "      <td>33</td>\n",
       "      <td>6</td>\n",
       "      <td>0.075</td>\n",
       "      <td>5098.7</td>\n",
       "      <td>3416.129</td>\n",
       "      <td>30592.125</td>\n",
       "      <td>7</td>\n",
       "      <td>2018</td>\n",
       "      <td>1682.496</td>\n",
       "      <td>0</td>\n",
       "      <td>2018/07</td>\n",
       "    </tr>\n",
       "    <tr>\n",
       "      <th>4836</th>\n",
       "      <td>SO - 000400</td>\n",
       "      <td>2018-07-06</td>\n",
       "      <td>23</td>\n",
       "      <td>1</td>\n",
       "      <td>120</td>\n",
       "      <td>29</td>\n",
       "      <td>7</td>\n",
       "      <td>0.050</td>\n",
       "      <td>5708.4</td>\n",
       "      <td>2682.948</td>\n",
       "      <td>39958.750</td>\n",
       "      <td>7</td>\n",
       "      <td>2018</td>\n",
       "      <td>3025.402</td>\n",
       "      <td>0</td>\n",
       "      <td>2018/07</td>\n",
       "    </tr>\n",
       "    <tr>\n",
       "      <th>...</th>\n",
       "      <td>...</td>\n",
       "      <td>...</td>\n",
       "      <td>...</td>\n",
       "      <td>...</td>\n",
       "      <td>...</td>\n",
       "      <td>...</td>\n",
       "      <td>...</td>\n",
       "      <td>...</td>\n",
       "      <td>...</td>\n",
       "      <td>...</td>\n",
       "      <td>...</td>\n",
       "      <td>...</td>\n",
       "      <td>...</td>\n",
       "      <td>...</td>\n",
       "      <td>...</td>\n",
       "      <td>...</td>\n",
       "    </tr>\n",
       "    <tr>\n",
       "      <th>3438</th>\n",
       "      <td>SO - 0007591</td>\n",
       "      <td>2020-11-01</td>\n",
       "      <td>23</td>\n",
       "      <td>1</td>\n",
       "      <td>171</td>\n",
       "      <td>21</td>\n",
       "      <td>4</td>\n",
       "      <td>0.300</td>\n",
       "      <td>5246.1</td>\n",
       "      <td>3619.809</td>\n",
       "      <td>20984.100</td>\n",
       "      <td>11</td>\n",
       "      <td>2020</td>\n",
       "      <td>1625.991</td>\n",
       "      <td>50</td>\n",
       "      <td>2020/11</td>\n",
       "    </tr>\n",
       "    <tr>\n",
       "      <th>6870</th>\n",
       "      <td>SO - 0007717</td>\n",
       "      <td>2020-11-16</td>\n",
       "      <td>6</td>\n",
       "      <td>1</td>\n",
       "      <td>240</td>\n",
       "      <td>41</td>\n",
       "      <td>4</td>\n",
       "      <td>0.300</td>\n",
       "      <td>1005.0</td>\n",
       "      <td>633.150</td>\n",
       "      <td>4019.700</td>\n",
       "      <td>11</td>\n",
       "      <td>2020</td>\n",
       "      <td>371.550</td>\n",
       "      <td>60</td>\n",
       "      <td>2020/11</td>\n",
       "    </tr>\n",
       "    <tr>\n",
       "      <th>1736</th>\n",
       "      <td>SO - 0007807</td>\n",
       "      <td>2020-11-25</td>\n",
       "      <td>25</td>\n",
       "      <td>1</td>\n",
       "      <td>88</td>\n",
       "      <td>11</td>\n",
       "      <td>4</td>\n",
       "      <td>0.100</td>\n",
       "      <td>1815.7</td>\n",
       "      <td>1034.949</td>\n",
       "      <td>7262.700</td>\n",
       "      <td>11</td>\n",
       "      <td>2020</td>\n",
       "      <td>780.651</td>\n",
       "      <td>0</td>\n",
       "      <td>2020/11</td>\n",
       "    </tr>\n",
       "    <tr>\n",
       "      <th>4837</th>\n",
       "      <td>SO - 0008018</td>\n",
       "      <td>2020-12-22</td>\n",
       "      <td>18</td>\n",
       "      <td>1</td>\n",
       "      <td>162</td>\n",
       "      <td>29</td>\n",
       "      <td>3</td>\n",
       "      <td>0.150</td>\n",
       "      <td>1943.0</td>\n",
       "      <td>1573.830</td>\n",
       "      <td>5828.850</td>\n",
       "      <td>12</td>\n",
       "      <td>2020</td>\n",
       "      <td>369.020</td>\n",
       "      <td>0</td>\n",
       "      <td>2020/12</td>\n",
       "    </tr>\n",
       "    <tr>\n",
       "      <th>3103</th>\n",
       "      <td>SO - 0008025</td>\n",
       "      <td>2020-12-23</td>\n",
       "      <td>21</td>\n",
       "      <td>1</td>\n",
       "      <td>238</td>\n",
       "      <td>19</td>\n",
       "      <td>4</td>\n",
       "      <td>0.050</td>\n",
       "      <td>1125.6</td>\n",
       "      <td>562.800</td>\n",
       "      <td>4502.350</td>\n",
       "      <td>12</td>\n",
       "      <td>2020</td>\n",
       "      <td>562.750</td>\n",
       "      <td>20</td>\n",
       "      <td>2020/12</td>\n",
       "    </tr>\n",
       "  </tbody>\n",
       "</table>\n",
       "<p>152 rows × 16 columns</p>\n",
       "</div>"
      ],
      "text/plain": [
       "       OrderNumber  OrderDate  _SalesAM_ID  _CustomerID  _SiteID  _ProductID  \\\n",
       "5799   SO - 000169 2018-06-08            9            1       30          35   \n",
       "0      SO - 000175 2018-06-09            1            1      107           1   \n",
       "1034   SO - 000307 2018-06-26           12            1      299           7   \n",
       "5482   SO - 000368 2018-07-02           11            1      160          33   \n",
       "4836   SO - 000400 2018-07-06           23            1      120          29   \n",
       "...            ...        ...          ...          ...      ...         ...   \n",
       "3438  SO - 0007591 2020-11-01           23            1      171          21   \n",
       "6870  SO - 0007717 2020-11-16            6            1      240          41   \n",
       "1736  SO - 0007807 2020-11-25           25            1       88          11   \n",
       "4837  SO - 0008018 2020-12-22           18            1      162          29   \n",
       "3103  SO - 0008025 2020-12-23           21            1      238          19   \n",
       "\n",
       "      Order Quantity  Discount Applied  Unit Price  Unit Cost  Total Amount  \\\n",
       "5799               2             0.150      1051.9    494.393      2103.650   \n",
       "0                  1             0.075      2224.4   1579.324      2224.325   \n",
       "1034               1             0.075      1078.7    506.989      1078.625   \n",
       "5482               6             0.075      5098.7   3416.129     30592.125   \n",
       "4836               7             0.050      5708.4   2682.948     39958.750   \n",
       "...              ...               ...         ...        ...           ...   \n",
       "3438               4             0.300      5246.1   3619.809     20984.100   \n",
       "6870               4             0.300      1005.0    633.150      4019.700   \n",
       "1736               4             0.100      1815.7   1034.949      7262.700   \n",
       "4837               3             0.150      1943.0   1573.830      5828.850   \n",
       "3103               4             0.050      1125.6    562.800      4502.350   \n",
       "\n",
       "      Month  Year    Profit  Bandwidth Month-Year  \n",
       "5799      6  2018   557.357          0    2018/06  \n",
       "0         6  2018   645.001          0    2018/06  \n",
       "1034      6  2018   571.636          0    2018/06  \n",
       "5482      7  2018  1682.496          0    2018/07  \n",
       "4836      7  2018  3025.402          0    2018/07  \n",
       "...     ...   ...       ...        ...        ...  \n",
       "3438     11  2020  1625.991         50    2020/11  \n",
       "6870     11  2020   371.550         60    2020/11  \n",
       "1736     11  2020   780.651          0    2020/11  \n",
       "4837     12  2020   369.020          0    2020/12  \n",
       "3103     12  2020   562.750         20    2020/12  \n",
       "\n",
       "[152 rows x 16 columns]"
      ]
     },
     "execution_count": 35,
     "metadata": {},
     "output_type": "execute_result"
    }
   ],
   "source": [
    "sales_order.query(\"_CustomerID == 1\").sort_values(['OrderDate'])"
   ]
  },
  {
   "cell_type": "code",
   "execution_count": 21,
   "id": "1303bc3e",
   "metadata": {},
   "outputs": [],
   "source": [
    "sales_order['Month-Year']= sales_order['OrderDate'].dt.strftime('%Y/%m')"
   ]
  },
  {
   "cell_type": "code",
   "execution_count": 37,
   "id": "335a7392",
   "metadata": {},
   "outputs": [
    {
     "data": {
      "text/plain": [
       "Month-Year\n",
       "2018/05      8\n",
       "2018/06    252\n",
       "2018/07    261\n",
       "2018/08    279\n",
       "2018/09    254\n",
       "2018/10    228\n",
       "2018/11    257\n",
       "2018/12    297\n",
       "2019/01    293\n",
       "2019/02    232\n",
       "2019/03    213\n",
       "2019/04    271\n",
       "2019/05    279\n",
       "2019/06    243\n",
       "2019/07    253\n",
       "2019/08    261\n",
       "2019/09    237\n",
       "2019/10    235\n",
       "2019/11    262\n",
       "2019/12    251\n",
       "2020/01    276\n",
       "2020/02    270\n",
       "2020/03    236\n",
       "2020/04    262\n",
       "2020/05    263\n",
       "2020/06    245\n",
       "2020/07    281\n",
       "2020/08    251\n",
       "2020/09    254\n",
       "2020/10    282\n",
       "2020/11    262\n",
       "2020/12    243\n",
       "Name: _ProductID, dtype: int64"
      ]
     },
     "execution_count": 37,
     "metadata": {},
     "output_type": "execute_result"
    }
   ],
   "source": [
    "#sales_order['_ProductID'].groupby([sales_order.Year]).agg('count')\n",
    "sales_order['_ProductID'].groupby([sales_order[\"Month-Year\"]]).agg('count')"
   ]
  },
  {
   "cell_type": "code",
   "execution_count": null,
   "id": "59a69a1e",
   "metadata": {},
   "outputs": [],
   "source": [
    "#sales_order.head()"
   ]
  },
  {
   "cell_type": "markdown",
   "id": "f1d248fa",
   "metadata": {},
   "source": [
    "# Cleaning data"
   ]
  },
  {
   "cell_type": "code",
   "execution_count": null,
   "id": "6edbdf25",
   "metadata": {},
   "outputs": [],
   "source": [
    "sales_order.isnull().sum()"
   ]
  },
  {
   "cell_type": "markdown",
   "id": "acc808f9",
   "metadata": {},
   "source": [
    "# Building the model"
   ]
  },
  {
   "cell_type": "markdown",
   "id": "6a455f40",
   "metadata": {},
   "source": [
    "## Predicting future products demand"
   ]
  },
  {
   "cell_type": "code",
   "execution_count": 41,
   "id": "47fa4f43",
   "metadata": {},
   "outputs": [],
   "source": [
    "x = sales_order.drop([\"_ProductID\",\"OrderNumber\",\"OrderDate\",\"Year\",\"Month-Year\"], axis=\"columns\")\n",
    "y = sales_order[\"_ProductID\"]"
   ]
  },
  {
   "cell_type": "code",
   "execution_count": 42,
   "id": "808b6eb9",
   "metadata": {},
   "outputs": [
    {
     "data": {
      "text/html": [
       "<div>\n",
       "<style scoped>\n",
       "    .dataframe tbody tr th:only-of-type {\n",
       "        vertical-align: middle;\n",
       "    }\n",
       "\n",
       "    .dataframe tbody tr th {\n",
       "        vertical-align: top;\n",
       "    }\n",
       "\n",
       "    .dataframe thead th {\n",
       "        text-align: right;\n",
       "    }\n",
       "</style>\n",
       "<table border=\"1\" class=\"dataframe\">\n",
       "  <thead>\n",
       "    <tr style=\"text-align: right;\">\n",
       "      <th></th>\n",
       "      <th>OrderNumber</th>\n",
       "      <th>OrderDate</th>\n",
       "      <th>_SalesAM_ID</th>\n",
       "      <th>_CustomerID</th>\n",
       "      <th>_SiteID</th>\n",
       "      <th>_ProductID</th>\n",
       "      <th>Order Quantity</th>\n",
       "      <th>Discount Applied</th>\n",
       "      <th>Unit Price</th>\n",
       "      <th>Unit Cost</th>\n",
       "      <th>Total Amount</th>\n",
       "      <th>Month</th>\n",
       "      <th>Year</th>\n",
       "      <th>Profit</th>\n",
       "      <th>Bandwidth</th>\n",
       "      <th>Month-Year</th>\n",
       "    </tr>\n",
       "  </thead>\n",
       "  <tbody>\n",
       "    <tr>\n",
       "      <th>0</th>\n",
       "      <td>SO - 000175</td>\n",
       "      <td>2018-06-09</td>\n",
       "      <td>1</td>\n",
       "      <td>1</td>\n",
       "      <td>107</td>\n",
       "      <td>1</td>\n",
       "      <td>1</td>\n",
       "      <td>0.075</td>\n",
       "      <td>2224.4</td>\n",
       "      <td>1579.324</td>\n",
       "      <td>2224.325</td>\n",
       "      <td>6</td>\n",
       "      <td>2018</td>\n",
       "      <td>645.001</td>\n",
       "      <td>0</td>\n",
       "      <td>2018/06</td>\n",
       "    </tr>\n",
       "    <tr>\n",
       "      <th>1</th>\n",
       "      <td>SO - 0003171</td>\n",
       "      <td>2019-05-26</td>\n",
       "      <td>8</td>\n",
       "      <td>1</td>\n",
       "      <td>288</td>\n",
       "      <td>1</td>\n",
       "      <td>1</td>\n",
       "      <td>0.300</td>\n",
       "      <td>3966.4</td>\n",
       "      <td>2816.144</td>\n",
       "      <td>3966.100</td>\n",
       "      <td>5</td>\n",
       "      <td>2019</td>\n",
       "      <td>1149.956</td>\n",
       "      <td>0</td>\n",
       "      <td>2019/05</td>\n",
       "    </tr>\n",
       "    <tr>\n",
       "      <th>2</th>\n",
       "      <td>SO - 0003587</td>\n",
       "      <td>2019-07-16</td>\n",
       "      <td>11</td>\n",
       "      <td>1</td>\n",
       "      <td>129</td>\n",
       "      <td>1</td>\n",
       "      <td>2</td>\n",
       "      <td>0.100</td>\n",
       "      <td>3852.5</td>\n",
       "      <td>2658.225</td>\n",
       "      <td>7704.900</td>\n",
       "      <td>7</td>\n",
       "      <td>2019</td>\n",
       "      <td>1194.175</td>\n",
       "      <td>0</td>\n",
       "      <td>2019/07</td>\n",
       "    </tr>\n",
       "    <tr>\n",
       "      <th>3</th>\n",
       "      <td>SO - 0005097</td>\n",
       "      <td>2020-01-14</td>\n",
       "      <td>22</td>\n",
       "      <td>1</td>\n",
       "      <td>4</td>\n",
       "      <td>1</td>\n",
       "      <td>1</td>\n",
       "      <td>0.075</td>\n",
       "      <td>2505.8</td>\n",
       "      <td>1954.524</td>\n",
       "      <td>2505.725</td>\n",
       "      <td>1</td>\n",
       "      <td>2020</td>\n",
       "      <td>551.201</td>\n",
       "      <td>0</td>\n",
       "      <td>2020/01</td>\n",
       "    </tr>\n",
       "    <tr>\n",
       "      <th>4</th>\n",
       "      <td>SO - 0005532</td>\n",
       "      <td>2020-03-04</td>\n",
       "      <td>11</td>\n",
       "      <td>1</td>\n",
       "      <td>48</td>\n",
       "      <td>1</td>\n",
       "      <td>1</td>\n",
       "      <td>0.100</td>\n",
       "      <td>3256.2</td>\n",
       "      <td>2767.770</td>\n",
       "      <td>3256.100</td>\n",
       "      <td>3</td>\n",
       "      <td>2020</td>\n",
       "      <td>488.330</td>\n",
       "      <td>0</td>\n",
       "      <td>2020/03</td>\n",
       "    </tr>\n",
       "  </tbody>\n",
       "</table>\n",
       "</div>"
      ],
      "text/plain": [
       "    OrderNumber  OrderDate  _SalesAM_ID  _CustomerID  _SiteID  _ProductID  \\\n",
       "0   SO - 000175 2018-06-09            1            1      107           1   \n",
       "1  SO - 0003171 2019-05-26            8            1      288           1   \n",
       "2  SO - 0003587 2019-07-16           11            1      129           1   \n",
       "3  SO - 0005097 2020-01-14           22            1        4           1   \n",
       "4  SO - 0005532 2020-03-04           11            1       48           1   \n",
       "\n",
       "   Order Quantity  Discount Applied  Unit Price  Unit Cost  Total Amount  \\\n",
       "0               1             0.075      2224.4   1579.324      2224.325   \n",
       "1               1             0.300      3966.4   2816.144      3966.100   \n",
       "2               2             0.100      3852.5   2658.225      7704.900   \n",
       "3               1             0.075      2505.8   1954.524      2505.725   \n",
       "4               1             0.100      3256.2   2767.770      3256.100   \n",
       "\n",
       "   Month  Year    Profit  Bandwidth Month-Year  \n",
       "0      6  2018   645.001          0    2018/06  \n",
       "1      5  2019  1149.956          0    2019/05  \n",
       "2      7  2019  1194.175          0    2019/07  \n",
       "3      1  2020   551.201          0    2020/01  \n",
       "4      3  2020   488.330          0    2020/03  "
      ]
     },
     "execution_count": 42,
     "metadata": {},
     "output_type": "execute_result"
    }
   ],
   "source": [
    "sales_order.head()"
   ]
  },
  {
   "cell_type": "code",
   "execution_count": 43,
   "id": "6b778a2d",
   "metadata": {},
   "outputs": [
    {
     "data": {
      "text/plain": [
       "_SalesAM_ID           int64\n",
       "_CustomerID           int64\n",
       "_SiteID               int64\n",
       "Order Quantity        int64\n",
       "Discount Applied    float64\n",
       "Unit Price          float64\n",
       "Unit Cost           float64\n",
       "Total Amount        float64\n",
       "Month                 int64\n",
       "Profit              float64\n",
       "Bandwidth             int64\n",
       "dtype: object"
      ]
     },
     "execution_count": 43,
     "metadata": {},
     "output_type": "execute_result"
    }
   ],
   "source": [
    "# Splitting the dataset into the Training set and Test set\n",
    "from sklearn.model_selection import train_test_split\n",
    "X_train, X_test, y_train, y_test = train_test_split(x, y, test_size = 0.25, random_state = 0)\n",
    "X_train.dtypes"
   ]
  },
  {
   "cell_type": "code",
   "execution_count": 44,
   "id": "6f25507d",
   "metadata": {},
   "outputs": [],
   "source": [
    "# X_train = X_train.values.reshape(-1, 1)\n",
    "# y_train = y_train.values.reshape(-1, 1)\n",
    "# X_test = X_test.values.reshape(-1, 1)\n",
    "# y_test = y_test.values.reshape(-1, 1)"
   ]
  },
  {
   "cell_type": "code",
   "execution_count": 45,
   "id": "03a6b4ca",
   "metadata": {},
   "outputs": [],
   "source": [
    "from sklearn import tree\n",
    "model = tree.DecisionTreeClassifier()\n"
   ]
  },
  {
   "cell_type": "code",
   "execution_count": 46,
   "id": "e974f7d8",
   "metadata": {},
   "outputs": [
    {
     "data": {
      "text/plain": [
       "DecisionTreeClassifier()"
      ]
     },
     "execution_count": 46,
     "metadata": {},
     "output_type": "execute_result"
    }
   ],
   "source": [
    "model.fit(X_train, y_train)"
   ]
  },
  {
   "cell_type": "code",
   "execution_count": 47,
   "id": "b2955293",
   "metadata": {},
   "outputs": [],
   "source": [
    "y_pred=model.predict(X_test)"
   ]
  },
  {
   "cell_type": "code",
   "execution_count": 17,
   "id": "62ff43ac",
   "metadata": {},
   "outputs": [
    {
     "ename": "NameError",
     "evalue": "name 'y_test' is not defined",
     "output_type": "error",
     "traceback": [
      "\u001b[1;31m---------------------------------------------------------------------------\u001b[0m",
      "\u001b[1;31mNameError\u001b[0m                                 Traceback (most recent call last)",
      "Input \u001b[1;32mIn [17]\u001b[0m, in \u001b[0;36m<cell line: 2>\u001b[1;34m()\u001b[0m\n\u001b[0;32m      1\u001b[0m \u001b[38;5;28;01mfrom\u001b[39;00m \u001b[38;5;21;01msklearn\u001b[39;00m\u001b[38;5;21;01m.\u001b[39;00m\u001b[38;5;21;01mmetrics\u001b[39;00m \u001b[38;5;28;01mimport\u001b[39;00m mean_absolute_percentage_error\n\u001b[1;32m----> 2\u001b[0m mean_absolute_percentage_error(\u001b[43my_test\u001b[49m,y_pred)\n",
      "\u001b[1;31mNameError\u001b[0m: name 'y_test' is not defined"
     ]
    }
   ],
   "source": [
    "from sklearn.metrics import mean_absolute_percentage_error\n",
    "mean_absolute_percentage_error(y_test,y_pred)"
   ]
  },
  {
   "cell_type": "code",
   "execution_count": null,
   "id": "aa88bbf9",
   "metadata": {
    "scrolled": true
   },
   "outputs": [],
   "source": [
    "100-mean_absolute_percentage_error(y_test,y_pred)"
   ]
  },
  {
   "cell_type": "code",
   "execution_count": null,
   "id": "4e7a105c",
   "metadata": {},
   "outputs": [],
   "source": [
    "b[8][0][0]"
   ]
  },
  {
   "cell_type": "code",
   "execution_count": null,
   "id": "aa28a9ad",
   "metadata": {},
   "outputs": [],
   "source": []
  },
  {
   "cell_type": "code",
   "execution_count": null,
   "id": "3d1b7892",
   "metadata": {},
   "outputs": [],
   "source": []
  },
  {
   "cell_type": "code",
   "execution_count": null,
   "id": "aceeb2cb",
   "metadata": {},
   "outputs": [],
   "source": []
  },
  {
   "cell_type": "code",
   "execution_count": null,
   "id": "14172c78",
   "metadata": {},
   "outputs": [],
   "source": []
  },
  {
   "cell_type": "code",
   "execution_count": null,
   "id": "a6bf61bc",
   "metadata": {},
   "outputs": [],
   "source": []
  },
  {
   "cell_type": "code",
   "execution_count": null,
   "id": "768e5769",
   "metadata": {},
   "outputs": [],
   "source": []
  },
  {
   "cell_type": "code",
   "execution_count": null,
   "id": "39ba0d1f",
   "metadata": {},
   "outputs": [],
   "source": []
  }
 ],
 "metadata": {
  "kernelspec": {
   "display_name": "Python 3 (ipykernel)",
   "language": "python",
   "name": "python3"
  },
  "language_info": {
   "codemirror_mode": {
    "name": "ipython",
    "version": 3
   },
   "file_extension": ".py",
   "mimetype": "text/x-python",
   "name": "python",
   "nbconvert_exporter": "python",
   "pygments_lexer": "ipython3",
   "version": "3.8.13"
  }
 },
 "nbformat": 4,
 "nbformat_minor": 5
}
